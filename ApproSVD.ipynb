{
 "cells": [
  {
   "cell_type": "code",
   "execution_count": 12,
   "metadata": {},
   "outputs": [
    {
     "name": "stdout",
     "output_type": "stream",
     "text": [
      "Requirement already satisfied: tqdm in c:\\programdata\\miniconda3\\lib\\site-packages (4.51.0)\n"
     ]
    }
   ],
   "source": [
    "!pip install tqdm"
   ]
  },
  {
   "cell_type": "code",
   "execution_count": 13,
   "metadata": {},
   "outputs": [],
   "source": [
    "from svd.incremental_svd import *\n",
    "from svd.incremental_approsvd import *\n",
    "from sklearn.model_selection import KFold\n",
    "from tqdm.notebook import tqdm, trange\n",
    "import numpy as np"
   ]
  },
  {
   "cell_type": "code",
   "execution_count": 14,
   "metadata": {},
   "outputs": [],
   "source": [
    "PATH = 'ml-100k/u.data'\n",
    "\n",
    "n_users = 943\n",
    "n_movies = 1682"
   ]
  },
  {
   "cell_type": "code",
   "execution_count": 15,
   "metadata": {},
   "outputs": [],
   "source": [
    "def computeMAE(rating_pairs):\n",
    "    n = rating_pairs.shape[0]\n",
    "    total = 0\n",
    "    for rt, rp in rating_pairs:\n",
    "        total += abs(rt - rp)\n",
    "    return total / float(n)\n",
    "\n",
    "def computeRMSE(rating_pairs):\n",
    "    n = rating_pairs.shape[0]\n",
    "    total = 0\n",
    "    for rt, rp in rating_pairs:\n",
    "        total += (rt - rp) ** 2\n",
    "    return np.sqrt(total / float(n))\n",
    "\n",
    "def ratings2matrix(ratings):\n",
    "    data = np.zeros((n_users, n_movies))\n",
    "    for r in ratings:\n",
    "        data[r[0]-1, r[1]-1] = r[2] # data[user_idx, movie_idx] = rating\n",
    "    return data\n",
    "\n",
    "def createRatingPairs(ratings_test, mat1, mat2, n1, n2):\n",
    "    rating_pairs = []\n",
    "    for r in ratings_test:\n",
    "        if r[1] >= (n1 + n2): continue\n",
    "        r1 = mat1[r[0]-1, r[1]-1]\n",
    "        r2 = mat2[r[0]-1, r[1]-1]\n",
    "        rating_pairs.append((r1, r2))\n",
    "    return np.asarray(rating_pairs)"
   ]
  },
  {
   "cell_type": "code",
   "execution_count": 16,
   "metadata": {},
   "outputs": [],
   "source": [
    "# the data has ratings for 943 users on 1682 movies\n",
    "n_ratings = 100000\n",
    "\n",
    "ratings = []\n",
    "with open(PATH) as f:\n",
    "    for i in range(n_ratings):\n",
    "        line = f.readline()\n",
    "        ratings.append(list(map(int, line.rstrip().split('\\t'))))\n",
    "ratings = np.asarray(ratings)"
   ]
  },
  {
   "cell_type": "markdown",
   "metadata": {},
   "source": [
    "## CrossVaalidation"
   ]
  },
  {
   "cell_type": "code",
   "execution_count": 18,
   "metadata": {},
   "outputs": [
    {
     "data": {
      "application/vnd.jupyter.widget-view+json": {
       "model_id": "8f261448cd4040b9812de840ca901b60",
       "version_major": 2,
       "version_minor": 0
      },
      "text/plain": [
       "HBox(children=(HTML(value='k-fold'), FloatProgress(value=0.0, max=5.0), HTML(value='')))"
      ]
     },
     "metadata": {},
     "output_type": "display_data"
    },
    {
     "name": "stdout",
     "output_type": "stream",
     "text": [
      "\n"
     ]
    }
   ],
   "source": [
    "# reduced rank\n",
    "k = 10\n",
    "\n",
    "# number of original columns for Incremental ApproSVD\n",
    "# B1: 900, B2: 100\n",
    "n1 = 900\n",
    "n2 = 100\n",
    "\n",
    "# how many columns are evaluated? (n_movies=1682 is the maximum)\n",
    "# A1: 500, A2: 50\n",
    "c1 = 500\n",
    "c2 = 50\n",
    "\n",
    "np.random.shuffle(ratings)\n",
    "kf = KFold()\n",
    "\n",
    "iSVD_totalRMSE = 0.\n",
    "ApproSVD_totalRMSE = 0.\n",
    "\n",
    "for train_indices, test_indices in tqdm(kf.split(ratings), total=kf.get_n_splits(), desc=\"k-fold\"):\n",
    "    # separate ratings to train and test\n",
    "    ratings_train = ratings[train_indices]\n",
    "    ratings_test = ratings[test_indices]\n",
    "\n",
    "    # create training matrix\n",
    "    mat_train = ratings2matrix(ratings_train)\n",
    "\n",
    "    # rank-k approximation of [B1, B2] based on Incremental ApproSVD\n",
    "    mat_b1 = mat_train[:, :n1]\n",
    "    mat_b2 = mat_train[:, n1:n1+n2]\n",
    "\n",
    "    # colums sampling probabilities for B1\n",
    "    nnz_b1 = np.count_nonzero(mat_b1)\n",
    "    p1 = np.zeros(n1)\n",
    "    for i in range(n1):\n",
    "         p1[i] = np.count_nonzero(mat_b1[:, i]) / float(nnz_b1)\n",
    "\n",
    "    # colums sampling probabilities for B2\n",
    "    nnz_b2 = np.count_nonzero(mat_b2)\n",
    "    p2 = np.zeros(n2)\n",
    "    for i in range(n2):\n",
    "          p2[i] = np.count_nonzero(mat_b2[:, i]) / float(nnz_b2)\n",
    "\n",
    "    mat_hk = incrementalApproSVD(mat_b1, mat_b2, c1, c2, k, p1, p2)\n",
    "    mat_orig = mat_train[:, :n1+n2]\n",
    "    mat_ApproSVD = np.dot(np.dot(mat_hk, mat_hk.T), mat_orig)\n",
    "\n",
    "    # best rank-k approximation of [B1, B2] based on truncated SVD\n",
    "    mat_u, vec_s, mat_vt = ln.svd(mat_train[:, :n1+n2], full_matrices=False)\n",
    "    mat_SVD = np.dot(np.dot(mat_u[:, :k], np.diag(vec_s[:k])), mat_vt[:k, :])\n",
    "\n",
    "    # compute RMSE between SVD and ApproSVD\n",
    "    rating_pairs = createRatingPairs(ratings_test, mat_SVD, mat_ApproSVD, n1, n2)\n",
    "    ApproSVD_totalRMSE += computeRMSE(rating_pairs)\n",
    "\n",
    "    # rank-k approximation of [A1, A2] based on Incremental SVD\n",
    "    mat_a1 = mat_train[:, :c1]\n",
    "    mat_a2 = mat_train[:, c1:c1+c2]\n",
    "\n",
    "    mat_u, mat_s, mat_vt = incrementalSVD(mat_a1, mat_a2, k)\n",
    "    mat_iSVD = np.dot(np.dot(mat_u, mat_s), mat_vt)\n",
    "\n",
    "    # best rank-k approximation of [A1, A2] based on truncated SVD\n",
    "    mat_u, vec_s, mat_vt = ln.svd(mat_train[:, :c1+c2], full_matrices=False)\n",
    "    mat_SVD = np.dot(np.dot(mat_u[:, :k], np.diag(vec_s[:k])), mat_vt[:k, :])\n",
    "\n",
    "    # compute RMSE between SVD and iSVD\n",
    "    rating_pairs = createRatingPairs(ratings_test, mat_SVD, mat_iSVD, c1, c2)\n",
    "    iSVD_totalRMSE += computeRMSE(rating_pairs)"
   ]
  },
  {
   "cell_type": "code",
   "execution_count": 10,
   "metadata": {},
   "outputs": [
    {
     "name": "stdout",
     "output_type": "stream",
     "text": [
      "Incremental SVD      vs. truncated SVD: 0.030512269000113355\n",
      "Incremental ApproSVD vs. truncated SVD: 0.24696425284161524\n"
     ]
    }
   ],
   "source": [
    "print('Incremental SVD      vs. truncated SVD:', iSVD_totalRMSE / 5.)\n",
    "print('Incremental ApproSVD vs. truncated SVD:', ApproSVD_totalRMSE / 5.)"
   ]
  },
  {
   "cell_type": "code",
   "execution_count": null,
   "metadata": {},
   "outputs": [],
   "source": []
  }
 ],
 "metadata": {
  "kernelspec": {
   "display_name": "Python 3",
   "language": "python",
   "name": "python3"
  },
  "language_info": {
   "codemirror_mode": {
    "name": "ipython",
    "version": 3
   },
   "file_extension": ".py",
   "mimetype": "text/x-python",
   "name": "python",
   "nbconvert_exporter": "python",
   "pygments_lexer": "ipython3",
   "version": "3.8.5"
  }
 },
 "nbformat": 4,
 "nbformat_minor": 4
}
